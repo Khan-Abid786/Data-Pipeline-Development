{
  "nbformat": 4,
  "nbformat_minor": 0,
  "metadata": {
    "colab": {
      "provenance": []
    },
    "kernelspec": {
      "name": "python3",
      "display_name": "Python 3"
    },
    "language_info": {
      "name": "python"
    }
  },
  "cells": [
    {
      "cell_type": "code",
      "source": [
        "print(\"Bismillahir Rahmanir Raheem\")"
      ],
      "metadata": {
        "colab": {
          "base_uri": "https://localhost:8080/"
        },
        "id": "grr0wwYfoklB",
        "outputId": "a28ae747-f259-4581-fda1-ebcaad808647"
      },
      "execution_count": 1,
      "outputs": [
        {
          "output_type": "stream",
          "name": "stdout",
          "text": [
            "Bismillahir Rahmanir Raheem\n"
          ]
        }
      ]
    },
    {
      "cell_type": "code",
      "source": [
        "import pandas as pd\n",
        "from sklearn.preprocessing import StandardScaler, OneHotEncoder\n",
        "from sklearn.impute import SimpleImputer\n",
        "from sklearn.compose import ColumnTransformer\n",
        "from sklearn.pipeline import Pipeline\n",
        "import numpy as np"
      ],
      "metadata": {
        "colab": {
          "base_uri": "https://localhost:8080/"
        },
        "id": "SRvZn8bbos3n",
        "outputId": "8a675f5c-0c2b-41b4-a12c-0291206ff5d5"
      },
      "execution_count": 3,
      "outputs": [
        {
          "output_type": "stream",
          "name": "stdout",
          "text": [
            "Data Loaded Successfully!\n",
            "Data Preprocessing Complete!\n",
            "Processed data saved to processed_data.csv\n"
          ]
        }
      ]
    },
    {
      "cell_type": "code",
      "source": [
        "# 1. Extract: Load dataset\n",
        "def extract_data(file_path):\n",
        "    df = pd.read_csv(file_path)\n",
        "    print(\"Data Loaded Successfully!\")\n",
        "    return df"
      ],
      "metadata": {
        "id": "ZkTpXGn0ppnm"
      },
      "execution_count": null,
      "outputs": []
    },
    {
      "cell_type": "code",
      "source": [
        "# 2. Preprocessing and Transformation\n",
        "def preprocess_data(df):\n",
        "    # Identify numeric and categorical columns\n",
        "    numeric_features = df.select_dtypes(include=['int64', 'float64']).columns\n",
        "    categorical_features = df.select_dtypes(include=['object']).columns\n",
        "\n",
        "    # Create transformation pipelines\n",
        "    numeric_transformer = Pipeline(steps=[\n",
        "        ('imputer', SimpleImputer(strategy='mean')),  # Fill missing values with mean\n",
        "        ('scaler', StandardScaler())  # Normalize numeric data\n",
        "    ])\n",
        "\n",
        "    categorical_transformer = Pipeline(steps=[\n",
        "        ('imputer', SimpleImputer(strategy='most_frequent')),  # Fill missing categorical values\n",
        "        ('onehot', OneHotEncoder(handle_unknown='ignore'))  # One-hot encoding\n",
        "    ])\n",
        "\n",
        "    # Apply transformations\n",
        "    preprocessor = ColumnTransformer(transformers=[\n",
        "        ('num', numeric_transformer, numeric_features),\n",
        "        ('cat', categorical_transformer, categorical_features)\n",
        "    ])\n",
        "\n",
        "    transformed_data = preprocessor.fit_transform(df)\n",
        "\n",
        "    # Convert transformed data back to a DataFrame\n",
        "    transformed_df = pd.DataFrame(transformed_data)\n",
        "\n",
        "    print(\"Data Preprocessing Complete!\")\n",
        "    return transformed_df"
      ],
      "metadata": {
        "id": "U0QUfD97qLoy"
      },
      "execution_count": null,
      "outputs": []
    },
    {
      "cell_type": "code",
      "source": [
        "# 3. Load: Save processed data\n",
        "def load_data(df, output_path):\n",
        "    df.to_csv(output_path, index=False)\n",
        "    print(f\"Processed data saved to {output_path}\")"
      ],
      "metadata": {
        "id": "HAF9WdZ-qVbi"
      },
      "execution_count": null,
      "outputs": []
    },
    {
      "cell_type": "code",
      "source": [
        "# Run the ETL Pipeline\n",
        "if __name__ == \"__main__\":\n",
        "    input_file = \"/content/sample_data/california_housing_train.csv\"  # Change this to your dataset path\n",
        "    output_file = \"processed_data.csv\"\n",
        "\n",
        "    # Run ETL\n",
        "    raw_data = extract_data(input_file)\n",
        "    processed_data = preprocess_data(raw_data)\n",
        "    load_data(processed_data, output_file)"
      ],
      "metadata": {
        "id": "9S6IDiXJqYxu"
      },
      "execution_count": null,
      "outputs": []
    },
    {
      "cell_type": "markdown",
      "source": [
        "# To use the script"
      ],
      "metadata": {
        "id": "PVpBDxQorcMg"
      }
    },
    {
      "cell_type": "code",
      "source": [
        "# run this block of code only if you are using pipeline as py script\n",
        "# !python etl_pipeline.py\n"
      ],
      "metadata": {
        "id": "Ix-2RVcGrbtc"
      },
      "execution_count": null,
      "outputs": []
    }
  ]
}